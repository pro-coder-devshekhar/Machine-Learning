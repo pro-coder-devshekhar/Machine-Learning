{
 "cells": [
  {
   "cell_type": "markdown",
   "id": "b5c9a155",
   "metadata": {},
   "source": [
    "## Name: Devshekhar Pattnaik\n",
    "## Reg No: 19BCE1292\n",
    "## Slot: L1+2"
   ]
  },
  {
   "cell_type": "markdown",
   "id": "551285a6",
   "metadata": {},
   "source": [
    "# <center><u>ML Lab-8 </u></center>"
   ]
  },
  {
   "cell_type": "markdown",
   "id": "4af00079",
   "metadata": {},
   "source": [
    "### Linear Regression"
   ]
  },
  {
   "cell_type": "code",
   "execution_count": 1,
   "id": "a1ea8d0b",
   "metadata": {},
   "outputs": [],
   "source": [
    "import numpy as np\n",
    "import matplotlib.pyplot as plt\n",
    "import pandas as pd\n",
    "import seaborn as sb\n",
    "%matplotlib inline"
   ]
  },
  {
   "cell_type": "code",
   "execution_count": 2,
   "id": "eea9c6f5",
   "metadata": {},
   "outputs": [
    {
     "name": "stdout",
     "output_type": "stream",
     "text": [
      "    Year  Placement\n",
      "0   2000         50\n",
      "1   2001         54\n",
      "2   2002         62\n",
      "3   2003         78\n",
      "4   2004         65\n",
      "5   2005         69\n",
      "6   2006         72\n",
      "7   2007         77\n",
      "8   2008         85\n",
      "9   2009         98\n",
      "10  2010         75\n",
      "11  2011         80\n",
      "12  2012         82\n",
      "13  2013         85\n",
      "14  2014         88\n",
      "15  2015         75\n",
      "16  2016         90\n",
      "17  2017         93\n",
      "18  2018         95\n",
      "19  2019         98\n"
     ]
    }
   ],
   "source": [
    "datafile = pd.DataFrame()\n",
    "datafile[0] = np.arange(2000,2020)\n",
    "datafile[1] = [50,54,62,78,65,69,72,77,85,98,75,80,82,85,88,75,90,93,95,98]\n",
    "datafile.columns = [\"Year\",\"Placement\"]\n",
    "print(datafile)"
   ]
  },
  {
   "cell_type": "code",
   "execution_count": 3,
   "id": "2d37f687",
   "metadata": {},
   "outputs": [],
   "source": [
    "# initializing our inputs and outputs\n",
    "X = datafile['Year'].values\n",
    "Y = datafile['Placement'].values"
   ]
  },
  {
   "cell_type": "code",
   "execution_count": 4,
   "id": "43408dd3",
   "metadata": {},
   "outputs": [],
   "source": [
    "# mean of our inputs and outputs\n",
    "x_mean = np.mean(X)\n",
    "y_mean = np.mean(Y)\n",
    "\n",
    "#total number of values\n",
    "n = len(X)"
   ]
  },
  {
   "cell_type": "code",
   "execution_count": 5,
   "id": "ce36c006",
   "metadata": {},
   "outputs": [
    {
     "name": "stdout",
     "output_type": "stream",
     "text": [
      "1.9466165413533834 -3833.175939849624\n"
     ]
    }
   ],
   "source": [
    "# using the formula to calculate the b1 and b0\n",
    "numerator = 0\n",
    "denominator = 0\n",
    "for i in range(n):\n",
    "    numerator += (X[i] - x_mean) * (Y[i] - y_mean)\n",
    "    denominator += (X[i] - x_mean) ** 2\n",
    "    \n",
    "b1 = numerator / denominator\n",
    "b0 = y_mean - (b1 * x_mean)\n",
    "\n",
    "#printing the coefficient\n",
    "print(b1, b0)"
   ]
  },
  {
   "cell_type": "code",
   "execution_count": 6,
   "id": "bf45b7a6",
   "metadata": {},
   "outputs": [
    {
     "data": {
      "text/plain": [
       "<AxesSubplot:>"
      ]
     },
     "execution_count": 6,
     "metadata": {},
     "output_type": "execute_result"
    },
    {
     "data": {
      "image/png": "[encoded data removed]",
      "text/plain": [
       "<Figure size 432x288 with 2 Axes>"
      ]
     },
     "metadata": {
      "needs_background": "light"
     },
     "output_type": "display_data"
    }
   ],
   "source": [
    "#correlation\n",
    "data_corr = datafile.corr()\n",
    "sb.heatmap(data_corr,annot=True)"
   ]
  },
  {
   "cell_type": "code",
   "execution_count": 7,
   "id": "d4e52374",
   "metadata": {},
   "outputs": [
    {
     "data": {
      "image/png": "[encoded data removed]",
      "text/plain": [
       "<Figure size 432x288 with 1 Axes>"
      ]
     },
     "metadata": {
      "needs_background": "light"
     },
     "output_type": "display_data"
    }
   ],
   "source": [
    "#Plotting actual data\n",
    "plt.scatter(datafile['Year'],datafile['Placement'],label=\"Actual Values\")\n",
    "plt.title(\"Placement plot\")\n",
    "plt.xticks(np.arange(2000,2020,2))\n",
    "plt.xlabel(\"Year\")\n",
    "plt.ylabel(\"Placement\")\n",
    "\n",
    "#calculating line values of x and y\n",
    "x = np.linspace(X[0], X[19])\n",
    "y = b0 + b1 * x\n",
    "\n",
    "#plotting line\n",
    "plt.plot(x, y, color='red', label='Linear Regression Line')\n",
    "\n",
    "plt.legend()\n",
    "plt.show()"
   ]
  },
  {
   "cell_type": "code",
   "execution_count": 8,
   "id": "cc900d6d",
   "metadata": {},
   "outputs": [
    {
     "name": "stdout",
     "output_type": "stream",
     "text": [
      "7.317974061234548\n"
     ]
    }
   ],
   "source": [
    "rmse = 0\n",
    "for i in range(n):\n",
    "    y_pred=  b0 + b1* X[i]\n",
    "    rmse += (Y[i] - y_pred) ** 2\n",
    "    \n",
    "rmse = np.sqrt(rmse/n)\n",
    "print(rmse)"
   ]
  },
  {
   "cell_type": "code",
   "execution_count": 9,
   "id": "7479d3e6",
   "metadata": {},
   "outputs": [
    {
     "name": "stdout",
     "output_type": "stream",
     "text": [
      "0.7017349483512627\n"
     ]
    }
   ],
   "source": [
    "sumofsquares = 0\n",
    "sumofresiduals = 0\n",
    "for i in range(n) :\n",
    "    y_pred = b0 + b1 * X[i]\n",
    "    sumofsquares += (Y[i] - y_mean) ** 2\n",
    "    sumofresiduals += (Y[i] - y_pred) **2\n",
    "    \n",
    "score  = 1 - (sumofresiduals/sumofsquares)\n",
    "print(score)"
   ]
  },
  {
   "cell_type": "code",
   "execution_count": 10,
   "id": "0bb77aa8",
   "metadata": {},
   "outputs": [
    {
     "name": "stdout",
     "output_type": "stream",
     "text": [
      "    Year  Placement\n",
      "0   2000         50\n",
      "1   2001         54\n",
      "2   2002         62\n",
      "3   2003         65\n",
      "4   2004         68\n",
      "5   2005         70\n",
      "6   2006         71\n",
      "7   2007         74\n",
      "8   2008         76\n",
      "9   2009         80\n",
      "10  2010         82\n",
      "11  2011         84\n",
      "12  2012         86\n",
      "13  2013         90\n",
      "14  2014         91\n",
      "15  2015         93\n",
      "16  2016         94\n",
      "17  2017         95\n",
      "18  2018         98\n",
      "19  2019        100\n"
     ]
    }
   ],
   "source": [
    "#Test data\n",
    "datafile1 = pd.DataFrame()\n",
    "datafile1[0] = np.arange(2000,2020)\n",
    "datafile1[1] = [50,54,62,65,68,70,71,74,76,80,82,84,86,90,91,93,94,95,98,100]\n",
    "datafile1.columns = [\"Year\",\"Placement\"]\n",
    "print(datafile1)"
   ]
  },
  {
   "cell_type": "code",
   "execution_count": 11,
   "id": "969dbcff",
   "metadata": {},
   "outputs": [],
   "source": [
    "# initializing our inputs and outputs\n",
    "X1 = datafile1['Year'].values\n",
    "Y1 = datafile1['Placement'].values"
   ]
  },
  {
   "cell_type": "code",
   "execution_count": 12,
   "id": "da0af0f9",
   "metadata": {},
   "outputs": [
    {
     "data": {
      "text/plain": [
       "<AxesSubplot:>"
      ]
     },
     "execution_count": 12,
     "metadata": {},
     "output_type": "execute_result"
    },
    {
     "data": {
      "image/png": "[encoded data removed]",
      "text/plain": [
       "<Figure size 432x288 with 2 Axes>"
      ]
     },
     "metadata": {
      "needs_background": "light"
     },
     "output_type": "display_data"
    }
   ],
   "source": [
    "data_corr = datafile1.corr()\n",
    "sb.heatmap(data_corr,annot=True)"
   ]
  },
  {
   "cell_type": "code",
   "execution_count": 13,
   "id": "7b634e4a",
   "metadata": {},
   "outputs": [
    {
     "data": {
      "image/png": "[encoded data removed]",
      "text/plain": [
       "<Figure size 432x288 with 1 Axes>"
      ]
     },
     "metadata": {
      "needs_background": "light"
     },
     "output_type": "display_data"
    }
   ],
   "source": [
    "#plotting the data\n",
    "plt.scatter(datafile1['Year'],datafile1['Placement'],label=\"Actual Values of test data\")\n",
    "plt.title(\"Placement plot\")\n",
    "plt.xticks(np.arange(2000,2020,2))\n",
    "plt.xlabel(\"Year\")\n",
    "plt.ylabel(\"Placement\")\n",
    "\n",
    "#calculating line values of x and y\n",
    "x_test = np.linspace(X1[0], X1[19])\n",
    "y_test = b0 + b1 * x_test\n",
    "\n",
    "#plotting line\n",
    "plt.plot(x_test,y_test, color='green', label='Linear Regression Line')\n",
    "\n",
    "plt.legend()\n",
    "plt.show()"
   ]
  },
  {
   "cell_type": "code",
   "execution_count": 21,
   "id": "14d0dab5",
   "metadata": {},
   "outputs": [
    {
     "name": "stdout",
     "output_type": "stream",
     "text": [
      "  \t Year \t Placement Predicted Placement\n",
      "0 \t 2000 \t 50 \t 60.057142857142935\n",
      "1 \t 2001 \t 54 \t 62.003759398496186\n",
      "2 \t 2002 \t 62 \t 63.95037593984989\n",
      "3 \t 2003 \t 78 \t 65.89699248120314\n",
      "4 \t 2004 \t 65 \t 67.8436090225564\n",
      "5 \t 2005 \t 69 \t 69.79022556390964\n",
      "6 \t 2006 \t 72 \t 71.73684210526335\n",
      "7 \t 2007 \t 77 \t 73.6834586466166\n",
      "8 \t 2008 \t 85 \t 75.63007518796985\n",
      "9 \t 2009 \t 98 \t 77.57669172932356\n",
      "10 \t 2010 \t 75 \t 79.52330827067681\n",
      "11 \t 2011 \t 80 \t 81.46992481203006\n",
      "12 \t 2012 \t 82 \t 83.41654135338376\n",
      "13 \t 2013 \t 85 \t 85.36315789473701\n",
      "14 \t 2014 \t 88 \t 87.30977443609027\n",
      "15 \t 2015 \t 75 \t 89.25639097744352\n",
      "16 \t 2016 \t 90 \t 91.20300751879722\n",
      "17 \t 2017 \t 93 \t 93.14962406015047\n",
      "18 \t 2018 \t 95 \t 95.09624060150372\n",
      "19 \t 2019 \t 98 \t 97.04285714285743\n"
     ]
    }
   ],
   "source": [
    "# Predicted Values\n",
    "y2\n",
    "print(\" \",\"\\t\", \"Year\",\"\\t\", \"Placement\", \"Predicted Placement\")\n",
    "for i in range(0,len(X)):\n",
    "    y2[i] = b0 + b1 * X[i]\n",
    "    print(i,\"\\t\", X[i],\"\\t\", Y[i],\"\\t\", y2[i])"
   ]
  }
 ],
 "metadata": {
  "kernelspec": {
   "display_name": "Python 3",
   "language": "python",
   "name": "python3"
  },
  "language_info": {
   "codemirror_mode": {
    "name": "ipython",
    "version": 3
   },
   "file_extension": ".py",
   "mimetype": "text/x-python",
   "name": "python",
   "nbconvert_exporter": "python",
   "pygments_lexer": "ipython3",
   "version": "3.8.8"
  }
 },
 "nbformat": 4,
 "nbformat_minor": 5
}
