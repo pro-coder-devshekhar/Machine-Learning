{
 "cells": [
  {
   "cell_type": "markdown",
   "id": "52e03e4c",
   "metadata": {},
   "source": [
    "## Name: Devshekhar Pattnaik\n",
    "## Reg No: 19BCE1292\n",
    "## Slot: L1+2"
   ]
  },
  {
   "cell_type": "markdown",
   "id": "f044c426",
   "metadata": {},
   "source": [
    "# <center><u>ML Lab-10 </u></center>"
   ]
  },
  {
   "cell_type": "code",
   "execution_count": 3,
   "id": "1135d8b1",
   "metadata": {},
   "outputs": [],
   "source": [
    "import pandas as pd"
   ]
  },
  {
   "cell_type": "code",
   "execution_count": 4,
   "id": "87f4c4c9",
   "metadata": {},
   "outputs": [
    {
     "data": {
      "text/html": [
       "<div>\n",
       "<style scoped>\n",
       "    .dataframe tbody tr th:only-of-type {\n",
       "        vertical-align: middle;\n",
       "    }\n",
       "\n",
       "    .dataframe tbody tr th {\n",
       "        vertical-align: top;\n",
       "    }\n",
       "\n",
       "    .dataframe thead th {\n",
       "        text-align: right;\n",
       "    }\n",
       "</style>\n",
       "<table border=\"1\" class=\"dataframe\">\n",
       "  <thead>\n",
       "    <tr style=\"text-align: right;\">\n",
       "      <th></th>\n",
       "      <th>buying</th>\n",
       "      <th>maint_cost</th>\n",
       "      <th>total_doors</th>\n",
       "      <th>seater</th>\n",
       "      <th>boot_space</th>\n",
       "      <th>safety</th>\n",
       "      <th>decision</th>\n",
       "    </tr>\n",
       "  </thead>\n",
       "  <tbody>\n",
       "    <tr>\n",
       "      <th>0</th>\n",
       "      <td>vhigh</td>\n",
       "      <td>vhigh</td>\n",
       "      <td>2</td>\n",
       "      <td>2</td>\n",
       "      <td>small</td>\n",
       "      <td>med</td>\n",
       "      <td>unacc</td>\n",
       "    </tr>\n",
       "    <tr>\n",
       "      <th>1</th>\n",
       "      <td>vhigh</td>\n",
       "      <td>vhigh</td>\n",
       "      <td>2</td>\n",
       "      <td>2</td>\n",
       "      <td>small</td>\n",
       "      <td>high</td>\n",
       "      <td>unacc</td>\n",
       "    </tr>\n",
       "    <tr>\n",
       "      <th>2</th>\n",
       "      <td>vhigh</td>\n",
       "      <td>vhigh</td>\n",
       "      <td>2</td>\n",
       "      <td>2</td>\n",
       "      <td>med</td>\n",
       "      <td>low</td>\n",
       "      <td>unacc</td>\n",
       "    </tr>\n",
       "    <tr>\n",
       "      <th>3</th>\n",
       "      <td>vhigh</td>\n",
       "      <td>vhigh</td>\n",
       "      <td>2</td>\n",
       "      <td>2</td>\n",
       "      <td>med</td>\n",
       "      <td>med</td>\n",
       "      <td>unacc</td>\n",
       "    </tr>\n",
       "    <tr>\n",
       "      <th>4</th>\n",
       "      <td>vhigh</td>\n",
       "      <td>vhigh</td>\n",
       "      <td>2</td>\n",
       "      <td>2</td>\n",
       "      <td>med</td>\n",
       "      <td>high</td>\n",
       "      <td>unacc</td>\n",
       "    </tr>\n",
       "  </tbody>\n",
       "</table>\n",
       "</div>"
      ],
      "text/plain": [
       "  buying maint_cost total_doors seater boot_space safety decision\n",
       "0  vhigh      vhigh           2      2      small    med    unacc\n",
       "1  vhigh      vhigh           2      2      small   high    unacc\n",
       "2  vhigh      vhigh           2      2        med    low    unacc\n",
       "3  vhigh      vhigh           2      2        med    med    unacc\n",
       "4  vhigh      vhigh           2      2        med   high    unacc"
      ]
     },
     "execution_count": 4,
     "metadata": {},
     "output_type": "execute_result"
    }
   ],
   "source": [
    "#Reading the data\n",
    "data = pd.read_csv('car_evaluation.csv')\n",
    "header=['buying','maint_cost','total_doors','seater','boot_space','safety','decision']\n",
    "data.columns=header\n",
    "data.head()"
   ]
  },
  {
   "cell_type": "code",
   "execution_count": 39,
   "id": "fe5581cf",
   "metadata": {},
   "outputs": [
    {
     "data": {
      "text/plain": [
       "unacc    1209\n",
       "acc       384\n",
       "good       69\n",
       "vgood      65\n",
       "Name: decision, dtype: int64"
      ]
     },
     "execution_count": 39,
     "metadata": {},
     "output_type": "execute_result"
    }
   ],
   "source": [
    "# describe output column\n",
    "data.decision.value_counts()"
   ]
  },
  {
   "cell_type": "code",
   "execution_count": 5,
   "id": "a913d189",
   "metadata": {},
   "outputs": [
    {
     "name": "stdout",
     "output_type": "stream",
     "text": [
      "(1727, 6) (1727,)\n"
     ]
    }
   ],
   "source": [
    "# splitting the data into output and input\n",
    "\n",
    "X=data.drop('decision',axis=1)\n",
    "\n",
    "#selecting only target variable\n",
    "Y=data['decision']\n",
    "\n",
    "print(X.shape,Y.shape)"
   ]
  },
  {
   "cell_type": "code",
   "execution_count": 6,
   "id": "b5884233",
   "metadata": {},
   "outputs": [
    {
     "name": "stdout",
     "output_type": "stream",
     "text": [
      "Requirement already satisfied: category_encoders in c:\\users\\devshekhar\\anaconda3\\lib\\site-packages (2.3.0)\n",
      "Requirement already satisfied: statsmodels>=0.9.0 in c:\\users\\devshekhar\\anaconda3\\lib\\site-packages (from category_encoders) (0.12.2)\n",
      "Requirement already satisfied: numpy>=1.14.0 in c:\\users\\devshekhar\\anaconda3\\lib\\site-packages (from category_encoders) (1.20.1)\n",
      "Requirement already satisfied: scikit-learn>=0.20.0 in c:\\users\\devshekhar\\anaconda3\\lib\\site-packages (from category_encoders) (0.24.1)\n",
      "Requirement already satisfied: pandas>=0.21.1 in c:\\users\\devshekhar\\anaconda3\\lib\\site-packages (from category_encoders) (1.2.4)\n",
      "Requirement already satisfied: patsy>=0.5.1 in c:\\users\\devshekhar\\anaconda3\\lib\\site-packages (from category_encoders) (0.5.1)\n",
      "Requirement already satisfied: scipy>=1.0.0 in c:\\users\\devshekhar\\anaconda3\\lib\\site-packages (from category_encoders) (1.6.2)\n",
      "Requirement already satisfied: pytz>=2017.3 in c:\\users\\devshekhar\\anaconda3\\lib\\site-packages (from pandas>=0.21.1->category_encoders) (2021.1)\n",
      "Requirement already satisfied: python-dateutil>=2.7.3 in c:\\users\\devshekhar\\anaconda3\\lib\\site-packages (from pandas>=0.21.1->category_encoders) (2.8.1)\n",
      "Requirement already satisfied: six in c:\\users\\devshekhar\\anaconda3\\lib\\site-packages (from patsy>=0.5.1->category_encoders) (1.15.0)\n",
      "Requirement already satisfied: threadpoolctl>=2.0.0 in c:\\users\\devshekhar\\anaconda3\\lib\\site-packages (from scikit-learn>=0.20.0->category_encoders) (2.1.0)\n",
      "Requirement already satisfied: joblib>=0.11 in c:\\users\\devshekhar\\anaconda3\\lib\\site-packages (from scikit-learn>=0.20.0->category_encoders) (1.0.1)\n",
      "Note: you may need to restart the kernel to use updated packages.\n"
     ]
    }
   ],
   "source": [
    "pip install --upgrade category_encoders"
   ]
  },
  {
   "cell_type": "code",
   "execution_count": 7,
   "id": "7245d9e6",
   "metadata": {},
   "outputs": [],
   "source": [
    "# converting objects to integers\n",
    "import category_encoders as ce\n",
    "\n",
    "encoder = ce.OrdinalEncoder(cols=['buying','maint_cost','total_doors','seater','boot_space','safety'])\n",
    "x= encoder.fit_transform(X)"
   ]
  },
  {
   "cell_type": "code",
   "execution_count": 8,
   "id": "78bde408",
   "metadata": {},
   "outputs": [
    {
     "name": "stdout",
     "output_type": "stream",
     "text": [
      "   buying  maint_cost  total_doors  seater  boot_space  safety\n",
      "0       1           1            1       1           1       1\n",
      "1       1           1            1       1           1       2\n",
      "2       1           1            1       1           2       3\n",
      "3       1           1            1       1           2       1\n",
      "4       1           1            1       1           2       2\n",
      "(1727, 6)\n"
     ]
    }
   ],
   "source": [
    "print(x.head())\n",
    "print(x.shape)"
   ]
  },
  {
   "cell_type": "code",
   "execution_count": 9,
   "id": "bc7cdefb",
   "metadata": {},
   "outputs": [
    {
     "name": "stdout",
     "output_type": "stream",
     "text": [
      "Original dataset\n",
      "\n",
      "\n",
      "   buying maint_cost total_doors seater boot_space safety\n",
      "0  vhigh      vhigh           2      2      small    med\n",
      "1  vhigh      vhigh           2      2      small   high\n",
      "2  vhigh      vhigh           2      2        med    low\n",
      "3  vhigh      vhigh           2      2        med    med\n",
      "4  vhigh      vhigh           2      2        med   high\n",
      "\n",
      " Encoded dataset\n",
      "\n",
      "    buying  maint_cost  total_doors  seater  boot_space  safety\n",
      "0       1           1            1       1           1       1\n",
      "1       1           1            1       1           1       2\n",
      "2       1           1            1       1           2       3\n",
      "3       1           1            1       1           2       1\n",
      "4       1           1            1       1           2       2\n"
     ]
    }
   ],
   "source": [
    "# Change of dataset\n",
    "print('Original dataset')\n",
    "print('\\n\\n',X.head())\n",
    "print('\\n Encoded dataset')\n",
    "print('\\n',x.head())"
   ]
  },
  {
   "cell_type": "code",
   "execution_count": 10,
   "id": "028765e8",
   "metadata": {},
   "outputs": [],
   "source": [
    "# splitting train and test of data\n",
    "from sklearn.model_selection import train_test_split\n",
    "\n",
    "x_1,xtest,y_1,ytest=train_test_split(x,Y,test_size=0.3,random_state=10)"
   ]
  },
  {
   "cell_type": "code",
   "execution_count": 11,
   "id": "cb9579c1",
   "metadata": {},
   "outputs": [],
   "source": [
    "# Using classifier (KNN)\n",
    "from sklearn.neighbors import KNeighborsClassifier\n",
    "model = KNeighborsClassifier()\n",
    "model.fit(x_1,y_1)\n",
    "y_predict = model.predict(xtest)"
   ]
  },
  {
   "cell_type": "code",
   "execution_count": 12,
   "id": "e9892714",
   "metadata": {},
   "outputs": [
    {
     "name": "stdout",
     "output_type": "stream",
     "text": [
      "0.9364161849710982\n"
     ]
    },
    {
     "data": {
      "text/html": [
       "<div>\n",
       "<style scoped>\n",
       "    .dataframe tbody tr th:only-of-type {\n",
       "        vertical-align: middle;\n",
       "    }\n",
       "\n",
       "    .dataframe tbody tr th {\n",
       "        vertical-align: top;\n",
       "    }\n",
       "\n",
       "    .dataframe thead th {\n",
       "        text-align: right;\n",
       "    }\n",
       "</style>\n",
       "<table border=\"1\" class=\"dataframe\">\n",
       "  <thead>\n",
       "    <tr style=\"text-align: right;\">\n",
       "      <th>col_0</th>\n",
       "      <th>acc</th>\n",
       "      <th>good</th>\n",
       "      <th>unacc</th>\n",
       "      <th>vgood</th>\n",
       "    </tr>\n",
       "    <tr>\n",
       "      <th>decision</th>\n",
       "      <th></th>\n",
       "      <th></th>\n",
       "      <th></th>\n",
       "      <th></th>\n",
       "    </tr>\n",
       "  </thead>\n",
       "  <tbody>\n",
       "    <tr>\n",
       "      <th>acc</th>\n",
       "      <td>114</td>\n",
       "      <td>0</td>\n",
       "      <td>9</td>\n",
       "      <td>0</td>\n",
       "    </tr>\n",
       "    <tr>\n",
       "      <th>good</th>\n",
       "      <td>4</td>\n",
       "      <td>10</td>\n",
       "      <td>2</td>\n",
       "      <td>0</td>\n",
       "    </tr>\n",
       "    <tr>\n",
       "      <th>unacc</th>\n",
       "      <td>6</td>\n",
       "      <td>0</td>\n",
       "      <td>352</td>\n",
       "      <td>0</td>\n",
       "    </tr>\n",
       "    <tr>\n",
       "      <th>vgood</th>\n",
       "      <td>7</td>\n",
       "      <td>3</td>\n",
       "      <td>2</td>\n",
       "      <td>10</td>\n",
       "    </tr>\n",
       "  </tbody>\n",
       "</table>\n",
       "</div>"
      ],
      "text/plain": [
       "col_0     acc  good  unacc  vgood\n",
       "decision                         \n",
       "acc       114     0      9      0\n",
       "good        4    10      2      0\n",
       "unacc       6     0    352      0\n",
       "vgood       7     3      2     10"
      ]
     },
     "execution_count": 12,
     "metadata": {},
     "output_type": "execute_result"
    }
   ],
   "source": [
    "# Output of prediction\n",
    "from sklearn.metrics import accuracy_score\n",
    "print(accuracy_score(ytest,y_predict))\n",
    "pd.crosstab(ytest, y_predict)"
   ]
  },
  {
   "cell_type": "code",
   "execution_count": 14,
   "id": "038fc274",
   "metadata": {},
   "outputs": [
    {
     "name": "stdout",
     "output_type": "stream",
     "text": [
      "Collecting imblearn\n",
      "  Downloading imblearn-0.0-py2.py3-none-any.whl (1.9 kB)\n",
      "Collecting imbalanced-learn\n",
      "  Downloading imbalanced_learn-0.8.1-py3-none-any.whl (189 kB)\n",
      "Requirement already satisfied: joblib>=0.11 in c:\\users\\devshekhar\\anaconda3\\lib\\site-packages (from imbalanced-learn->imblearn) (1.0.1)\n",
      "Requirement already satisfied: scikit-learn>=0.24 in c:\\users\\devshekhar\\anaconda3\\lib\\site-packages (from imbalanced-learn->imblearn) (0.24.1)\n",
      "Requirement already satisfied: scipy>=0.19.1 in c:\\users\\devshekhar\\anaconda3\\lib\\site-packages (from imbalanced-learn->imblearn) (1.6.2)\n",
      "Requirement already satisfied: numpy>=1.13.3 in c:\\users\\devshekhar\\anaconda3\\lib\\site-packages (from imbalanced-learn->imblearn) (1.20.1)\n",
      "Requirement already satisfied: threadpoolctl>=2.0.0 in c:\\users\\devshekhar\\anaconda3\\lib\\site-packages (from scikit-learn>=0.24->imbalanced-learn->imblearn) (2.1.0)\n",
      "Installing collected packages: imbalanced-learn, imblearn\n",
      "Successfully installed imbalanced-learn-0.8.1 imblearn-0.0\n",
      "Note: you may need to restart the kernel to use updated packages.\n"
     ]
    }
   ],
   "source": [
    "pip install imblearn"
   ]
  },
  {
   "cell_type": "markdown",
   "id": "a9f5a9cc",
   "metadata": {},
   "source": [
    "### SMOTE"
   ]
  },
  {
   "cell_type": "code",
   "execution_count": 15,
   "id": "0b37f94c",
   "metadata": {},
   "outputs": [],
   "source": [
    "from imblearn.over_sampling import SMOTE\n",
    "smote = SMOTE()"
   ]
  },
  {
   "cell_type": "code",
   "execution_count": 16,
   "id": "7719da21",
   "metadata": {},
   "outputs": [],
   "source": [
    "X_train_smote, y_train_smote = smote.fit_resample(x_1.astype('float'),y_1)"
   ]
  },
  {
   "cell_type": "code",
   "execution_count": 17,
   "id": "ce579a58",
   "metadata": {},
   "outputs": [
    {
     "name": "stdout",
     "output_type": "stream",
     "text": [
      "Before: Counter({'unacc': 851, 'acc': 261, 'good': 53, 'vgood': 43})\n",
      "After: Counter({'unacc': 851, 'acc': 851, 'good': 851, 'vgood': 851})\n"
     ]
    }
   ],
   "source": [
    "from collections import Counter\n",
    "print(\"Before:\", Counter(y_1))\n",
    "print(\"After:\", Counter(y_train_smote))"
   ]
  },
  {
   "cell_type": "code",
   "execution_count": 18,
   "id": "e86cd7a8",
   "metadata": {},
   "outputs": [
    {
     "name": "stdout",
     "output_type": "stream",
     "text": [
      "0.9344894026974951\n"
     ]
    },
    {
     "data": {
      "text/html": [
       "<div>\n",
       "<style scoped>\n",
       "    .dataframe tbody tr th:only-of-type {\n",
       "        vertical-align: middle;\n",
       "    }\n",
       "\n",
       "    .dataframe tbody tr th {\n",
       "        vertical-align: top;\n",
       "    }\n",
       "\n",
       "    .dataframe thead th {\n",
       "        text-align: right;\n",
       "    }\n",
       "</style>\n",
       "<table border=\"1\" class=\"dataframe\">\n",
       "  <thead>\n",
       "    <tr style=\"text-align: right;\">\n",
       "      <th>col_0</th>\n",
       "      <th>acc</th>\n",
       "      <th>good</th>\n",
       "      <th>unacc</th>\n",
       "      <th>vgood</th>\n",
       "    </tr>\n",
       "    <tr>\n",
       "      <th>decision</th>\n",
       "      <th></th>\n",
       "      <th></th>\n",
       "      <th></th>\n",
       "      <th></th>\n",
       "    </tr>\n",
       "  </thead>\n",
       "  <tbody>\n",
       "    <tr>\n",
       "      <th>acc</th>\n",
       "      <td>106</td>\n",
       "      <td>9</td>\n",
       "      <td>7</td>\n",
       "      <td>1</td>\n",
       "    </tr>\n",
       "    <tr>\n",
       "      <th>good</th>\n",
       "      <td>0</td>\n",
       "      <td>16</td>\n",
       "      <td>0</td>\n",
       "      <td>0</td>\n",
       "    </tr>\n",
       "    <tr>\n",
       "      <th>unacc</th>\n",
       "      <td>9</td>\n",
       "      <td>1</td>\n",
       "      <td>347</td>\n",
       "      <td>1</td>\n",
       "    </tr>\n",
       "    <tr>\n",
       "      <th>vgood</th>\n",
       "      <td>4</td>\n",
       "      <td>2</td>\n",
       "      <td>0</td>\n",
       "      <td>16</td>\n",
       "    </tr>\n",
       "  </tbody>\n",
       "</table>\n",
       "</div>"
      ],
      "text/plain": [
       "col_0     acc  good  unacc  vgood\n",
       "decision                         \n",
       "acc       106     9      7      1\n",
       "good        0    16      0      0\n",
       "unacc       9     1    347      1\n",
       "vgood       4     2      0     16"
      ]
     },
     "execution_count": 18,
     "metadata": {},
     "output_type": "execute_result"
    }
   ],
   "source": [
    "model.fit(X_train_smote, y_train_smote)\n",
    "y_predict = model.predict(xtest)\n",
    "print(accuracy_score(ytest, y_predict))\n",
    "pd.crosstab(ytest, y_predict)"
   ]
  },
  {
   "cell_type": "markdown",
   "id": "9f16eef1",
   "metadata": {},
   "source": [
    "### Over Sampling"
   ]
  },
  {
   "cell_type": "code",
   "execution_count": 21,
   "id": "d18d2028",
   "metadata": {},
   "outputs": [],
   "source": [
    "from sklearn.utils import resample"
   ]
  },
  {
   "cell_type": "code",
   "execution_count": 19,
   "id": "7263fd67",
   "metadata": {},
   "outputs": [],
   "source": [
    "#creating new dataframes of equal samples\n",
    "\n",
    "\n",
    "df_1 = data[data.decision == \"unacc\"]\n",
    "df_2 = data[data.decision == \"acc\"]\n",
    "df_3 = data[data.decision == \"good\"]\n",
    "df_4 = data[data.decision == \"vgood\"]"
   ]
  },
  {
   "cell_type": "code",
   "execution_count": 22,
   "id": "d3583886",
   "metadata": {},
   "outputs": [],
   "source": [
    "df_1_new = resample(df_1, replace = True, n_samples = 839, random_state=10)\n",
    "df_2_new = resample(df_2, replace = True, n_samples = 839, random_state=10)\n",
    "df_3_new = resample(df_3, replace = True, n_samples = 839, random_state=10)\n",
    "df_4_new = resample(df_4, replace = True, n_samples = 839, random_state=10)"
   ]
  },
  {
   "cell_type": "code",
   "execution_count": 23,
   "id": "4be85500",
   "metadata": {},
   "outputs": [
    {
     "data": {
      "text/plain": [
       "unacc    839\n",
       "good     839\n",
       "acc      839\n",
       "vgood    839\n",
       "Name: decision, dtype: int64"
      ]
     },
     "execution_count": 23,
     "metadata": {},
     "output_type": "execute_result"
    }
   ],
   "source": [
    "df_unsampled = pd.concat([df_1_new, df_2_new, df_3_new, df_4_new])\n",
    "df_unsampled.decision.value_counts()"
   ]
  },
  {
   "cell_type": "code",
   "execution_count": 24,
   "id": "1ac68d4d",
   "metadata": {},
   "outputs": [
    {
     "name": "stdout",
     "output_type": "stream",
     "text": [
      "(3356, 6) (3356,)\n"
     ]
    }
   ],
   "source": [
    "X=df_unsampled.drop('decision',axis=1)\n",
    "\n",
    "#selecting only target variable\n",
    "Y=df_unsampled['decision']\n",
    "\n",
    "print(X.shape,Y.shape)"
   ]
  },
  {
   "cell_type": "code",
   "execution_count": 25,
   "id": "1690b395",
   "metadata": {},
   "outputs": [],
   "source": [
    "import category_encoders as ce\n",
    "\n",
    "encoder = ce.OrdinalEncoder(cols=['buying','maint_cost','total_doors','seater','boot_space','safety'])\n",
    "x= encoder.fit_transform(X)"
   ]
  },
  {
   "cell_type": "code",
   "execution_count": 26,
   "id": "24fa4571",
   "metadata": {},
   "outputs": [
    {
     "name": "stdout",
     "output_type": "stream",
     "text": [
      "Original dataset\n",
      "\n",
      "\n",
      "      buying maint_cost total_doors seater boot_space safety\n",
      "1621    low        low           2      2      small   high\n",
      "625    high       high       5more      2        med   high\n",
      "1619    low        low           2      2      small    low\n",
      "1674    low        low           4      2      small    med\n",
      "932     med      vhigh           4      4        big    low\n",
      "\n",
      " Encoded dataset\n",
      "\n",
      "       buying  maint_cost  total_doors  seater  boot_space  safety\n",
      "1621       1           1            1       1           1       1\n",
      "625        2           2            2       1           2       1\n",
      "1619       1           1            1       1           1       2\n",
      "1674       1           1            3       1           1       3\n",
      "932        3           3            3       2           3       2\n"
     ]
    }
   ],
   "source": [
    "print('Original dataset')\n",
    "print('\\n\\n',X.head())\n",
    "print('\\n Encoded dataset')\n",
    "print('\\n',x.head())"
   ]
  },
  {
   "cell_type": "code",
   "execution_count": 27,
   "id": "2ddbebad",
   "metadata": {},
   "outputs": [],
   "source": [
    "from sklearn.model_selection import train_test_split\n",
    "\n",
    "x_1,xtest,y_1,ytest=train_test_split(x,Y,test_size=0.3,random_state=10)"
   ]
  },
  {
   "cell_type": "code",
   "execution_count": 28,
   "id": "ee53efc7",
   "metadata": {},
   "outputs": [],
   "source": [
    "from sklearn.neighbors import KNeighborsClassifier\n",
    "model = KNeighborsClassifier()\n",
    "model.fit(x_1,y_1)\n",
    "y_predict = model.predict(xtest)"
   ]
  },
  {
   "cell_type": "code",
   "execution_count": 29,
   "id": "9181930c",
   "metadata": {},
   "outputs": [
    {
     "name": "stdout",
     "output_type": "stream",
     "text": [
      "0.8510427010923535\n"
     ]
    },
    {
     "data": {
      "text/html": [
       "<div>\n",
       "<style scoped>\n",
       "    .dataframe tbody tr th:only-of-type {\n",
       "        vertical-align: middle;\n",
       "    }\n",
       "\n",
       "    .dataframe tbody tr th {\n",
       "        vertical-align: top;\n",
       "    }\n",
       "\n",
       "    .dataframe thead th {\n",
       "        text-align: right;\n",
       "    }\n",
       "</style>\n",
       "<table border=\"1\" class=\"dataframe\">\n",
       "  <thead>\n",
       "    <tr style=\"text-align: right;\">\n",
       "      <th>col_0</th>\n",
       "      <th>acc</th>\n",
       "      <th>good</th>\n",
       "      <th>unacc</th>\n",
       "      <th>vgood</th>\n",
       "    </tr>\n",
       "    <tr>\n",
       "      <th>decision</th>\n",
       "      <th></th>\n",
       "      <th></th>\n",
       "      <th></th>\n",
       "      <th></th>\n",
       "    </tr>\n",
       "  </thead>\n",
       "  <tbody>\n",
       "    <tr>\n",
       "      <th>acc</th>\n",
       "      <td>190</td>\n",
       "      <td>44</td>\n",
       "      <td>5</td>\n",
       "      <td>25</td>\n",
       "    </tr>\n",
       "    <tr>\n",
       "      <th>good</th>\n",
       "      <td>5</td>\n",
       "      <td>230</td>\n",
       "      <td>0</td>\n",
       "      <td>0</td>\n",
       "    </tr>\n",
       "    <tr>\n",
       "      <th>unacc</th>\n",
       "      <td>49</td>\n",
       "      <td>12</td>\n",
       "      <td>177</td>\n",
       "      <td>10</td>\n",
       "    </tr>\n",
       "    <tr>\n",
       "      <th>vgood</th>\n",
       "      <td>0</td>\n",
       "      <td>0</td>\n",
       "      <td>0</td>\n",
       "      <td>260</td>\n",
       "    </tr>\n",
       "  </tbody>\n",
       "</table>\n",
       "</div>"
      ],
      "text/plain": [
       "col_0     acc  good  unacc  vgood\n",
       "decision                         \n",
       "acc       190    44      5     25\n",
       "good        5   230      0      0\n",
       "unacc      49    12    177     10\n",
       "vgood       0     0      0    260"
      ]
     },
     "execution_count": 29,
     "metadata": {},
     "output_type": "execute_result"
    }
   ],
   "source": [
    "from sklearn.metrics import accuracy_score\n",
    "print(accuracy_score(ytest,y_predict))\n",
    "pd.crosstab(ytest, y_predict)"
   ]
  },
  {
   "cell_type": "markdown",
   "id": "169c47fa",
   "metadata": {},
   "source": [
    "### Under Sampling"
   ]
  },
  {
   "cell_type": "code",
   "execution_count": 30,
   "id": "b9793c18",
   "metadata": {},
   "outputs": [],
   "source": [
    "# creating dataframes of equal number of samples\n",
    "\n",
    "\n",
    "df_1 = data[data.decision == \"unacc\"]\n",
    "df_2 = data[data.decision == \"acc\"]\n",
    "df_3 = data[data.decision == \"good\"]\n",
    "df_4 = data[data.decision == \"vgood\"]"
   ]
  },
  {
   "cell_type": "code",
   "execution_count": 31,
   "id": "7b3f0f0c",
   "metadata": {},
   "outputs": [],
   "source": [
    "df_1_new = resample(df_1, replace = True, n_samples = 65, random_state=10)\n",
    "df_2_new = resample(df_2, replace = True, n_samples = 65, random_state=10)\n",
    "df_3_new = resample(df_3, replace = True, n_samples = 65, random_state=10)\n",
    "df_4_new = resample(df_4, replace = True, n_samples = 65, random_state=10)"
   ]
  },
  {
   "cell_type": "code",
   "execution_count": 32,
   "id": "7abba0e9",
   "metadata": {},
   "outputs": [
    {
     "data": {
      "text/plain": [
       "unacc    65\n",
       "vgood    65\n",
       "acc      65\n",
       "good     65\n",
       "Name: decision, dtype: int64"
      ]
     },
     "execution_count": 32,
     "metadata": {},
     "output_type": "execute_result"
    }
   ],
   "source": [
    "df_unsampled = pd.concat([df_1_new, df_2_new, df_3_new, df_4_new])\n",
    "df_unsampled.decision.value_counts()"
   ]
  },
  {
   "cell_type": "code",
   "execution_count": 33,
   "id": "125832a1",
   "metadata": {},
   "outputs": [
    {
     "name": "stdout",
     "output_type": "stream",
     "text": [
      "(260, 6) (260,)\n"
     ]
    }
   ],
   "source": [
    "X=df_unsampled.drop('decision',axis=1)\n",
    "\n",
    "#selecting only target variable\n",
    "Y=df_unsampled['decision']\n",
    "\n",
    "print(X.shape,Y.shape)"
   ]
  },
  {
   "cell_type": "code",
   "execution_count": 34,
   "id": "f4814a05",
   "metadata": {},
   "outputs": [],
   "source": [
    "import category_encoders as ce\n",
    "\n",
    "encoder = ce.OrdinalEncoder(cols=['buying','maint_cost','total_doors','seater','boot_space','safety'])\n",
    "x= encoder.fit_transform(X)"
   ]
  },
  {
   "cell_type": "code",
   "execution_count": 35,
   "id": "77b5bc19",
   "metadata": {},
   "outputs": [
    {
     "name": "stdout",
     "output_type": "stream",
     "text": [
      "Original dataset\n",
      "\n",
      "\n",
      "      buying maint_cost total_doors seater boot_space safety\n",
      "1621    low        low           2      2      small   high\n",
      "625    high       high       5more      2        med   high\n",
      "1619    low        low           2      2      small    low\n",
      "1674    low        low           4      2      small    med\n",
      "932     med      vhigh           4      4        big    low\n",
      "\n",
      " Encoded dataset\n",
      "\n",
      "       buying  maint_cost  total_doors  seater  boot_space  safety\n",
      "1621       1           1            1       1           1       1\n",
      "625        2           2            2       1           2       1\n",
      "1619       1           1            1       1           1       2\n",
      "1674       1           1            3       1           1       3\n",
      "932        3           3            3       2           3       2\n"
     ]
    }
   ],
   "source": [
    "print('Original dataset')\n",
    "print('\\n\\n',X.head())\n",
    "print('\\n Encoded dataset')\n",
    "print('\\n',x.head())"
   ]
  },
  {
   "cell_type": "code",
   "execution_count": 36,
   "id": "f1bc9900",
   "metadata": {},
   "outputs": [],
   "source": [
    "from sklearn.model_selection import train_test_split\n",
    "\n",
    "x_1,xtest,y_1,ytest=train_test_split(x,Y,test_size=0.3,random_state=10)"
   ]
  },
  {
   "cell_type": "code",
   "execution_count": 37,
   "id": "1196cf35",
   "metadata": {},
   "outputs": [],
   "source": [
    "from sklearn.neighbors import KNeighborsClassifier\n",
    "model = KNeighborsClassifier()\n",
    "model.fit(x_1,y_1)\n",
    "y_predict = model.predict(xtest)"
   ]
  },
  {
   "cell_type": "code",
   "execution_count": 38,
   "id": "f220ba4b",
   "metadata": {},
   "outputs": [
    {
     "name": "stdout",
     "output_type": "stream",
     "text": [
      "0.6410256410256411\n"
     ]
    },
    {
     "data": {
      "text/html": [
       "<div>\n",
       "<style scoped>\n",
       "    .dataframe tbody tr th:only-of-type {\n",
       "        vertical-align: middle;\n",
       "    }\n",
       "\n",
       "    .dataframe tbody tr th {\n",
       "        vertical-align: top;\n",
       "    }\n",
       "\n",
       "    .dataframe thead th {\n",
       "        text-align: right;\n",
       "    }\n",
       "</style>\n",
       "<table border=\"1\" class=\"dataframe\">\n",
       "  <thead>\n",
       "    <tr style=\"text-align: right;\">\n",
       "      <th>col_0</th>\n",
       "      <th>acc</th>\n",
       "      <th>good</th>\n",
       "      <th>unacc</th>\n",
       "      <th>vgood</th>\n",
       "    </tr>\n",
       "    <tr>\n",
       "      <th>decision</th>\n",
       "      <th></th>\n",
       "      <th></th>\n",
       "      <th></th>\n",
       "      <th></th>\n",
       "    </tr>\n",
       "  </thead>\n",
       "  <tbody>\n",
       "    <tr>\n",
       "      <th>acc</th>\n",
       "      <td>11</td>\n",
       "      <td>1</td>\n",
       "      <td>0</td>\n",
       "      <td>4</td>\n",
       "    </tr>\n",
       "    <tr>\n",
       "      <th>good</th>\n",
       "      <td>3</td>\n",
       "      <td>12</td>\n",
       "      <td>0</td>\n",
       "      <td>2</td>\n",
       "    </tr>\n",
       "    <tr>\n",
       "      <th>unacc</th>\n",
       "      <td>8</td>\n",
       "      <td>4</td>\n",
       "      <td>8</td>\n",
       "      <td>2</td>\n",
       "    </tr>\n",
       "    <tr>\n",
       "      <th>vgood</th>\n",
       "      <td>3</td>\n",
       "      <td>1</td>\n",
       "      <td>0</td>\n",
       "      <td>19</td>\n",
       "    </tr>\n",
       "  </tbody>\n",
       "</table>\n",
       "</div>"
      ],
      "text/plain": [
       "col_0     acc  good  unacc  vgood\n",
       "decision                         \n",
       "acc        11     1      0      4\n",
       "good        3    12      0      2\n",
       "unacc       8     4      8      2\n",
       "vgood       3     1      0     19"
      ]
     },
     "execution_count": 38,
     "metadata": {},
     "output_type": "execute_result"
    }
   ],
   "source": [
    "from sklearn.metrics import accuracy_score\n",
    "print(accuracy_score(ytest,y_predict))\n",
    "pd.crosstab(ytest, y_predict)"
   ]
  }
 ],
 "metadata": {
  "kernelspec": {
   "display_name": "Python 3",
   "language": "python",
   "name": "python3"
  },
  "language_info": {
   "codemirror_mode": {
    "name": "ipython",
    "version": 3
   },
   "file_extension": ".py",
   "mimetype": "text/x-python",
   "name": "python",
   "nbconvert_exporter": "python",
   "pygments_lexer": "ipython3",
   "version": "3.8.8"
  }
 },
 "nbformat": 4,
 "nbformat_minor": 5
}
